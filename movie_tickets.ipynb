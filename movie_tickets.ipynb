{
 "cells": [
  {
   "cell_type": "code",
   "execution_count": 1,
   "id": "40a81378",
   "metadata": {},
   "outputs": [],
   "source": [
    "# deafaultdict выбран из-за своей функциональности (ссылка в README.md)\n",
    "from collections import defaultdict"
   ]
  },
  {
   "cell_type": "code",
   "execution_count": 2,
   "id": "c8ea4d4b",
   "metadata": {},
   "outputs": [],
   "source": [
    "def solve():\n",
    "\n",
    "    ## Чтение данных из файла\n",
    "\n",
    "    # Чтение данных из файла logs.csv\n",
    "    with open('logs.csv', 'r') as f:\n",
    "        # Читает построчно файл, создает список с элеменатами - прочитанными строками\n",
    "        lines = [line.strip() for line in f if line.strip()]\n",
    "    # При обращении к несуществующему ключу, автоматически будет создаваться пустое множество set()\n",
    "    email_to_phones = defaultdict(set)\n",
    "    phone_to_emails = defaultdict(set)\n",
    "\n",
    "    ## Создание множеств для телефонов и почт пользователей\n",
    "\n",
    "    # Пробег по каждой строчке\n",
    "    for line in lines:\n",
    "        # .strip() удаляет пробел и переход на новую строку \\n в начале и конце строки, \n",
    "        # Далее строка по запятой разбивается на список\n",
    "        parts = line.split(',')\n",
    "        # Структура фиксированная, поэтому первая часть - email, вторая - телефон\n",
    "        email = parts[0].strip()\n",
    "        # Но надо проверить, что номер не пустой\n",
    "        phone = parts[1].strip() if len(parts) > 1 else ''\n",
    "        # Проверка на непустые значения email и phone: None, '', пробел\n",
    "        if email and phone:\n",
    "            # К соответсвующему ключу добавляется телефон\n",
    "            email_to_phones[email].add(phone)\n",
    "            # Email\n",
    "            phone_to_emails[phone].add(email)\n",
    "    # Новое множество для email и телефонов\n",
    "    visited = set()\n",
    "    # Для хранения итоговых групп пользвателей\n",
    "    groups = []\n",
    "    # Множество для проверки принадлежности к группе\n",
    "    element_to_group = {}\n",
    "    # Пробег по email в словаре соответсвия email -> телефон\n",
    "    for email in email_to_phones:\n",
    "        # Если email еще не фиксировался в посещениях\n",
    "        if email not in visited:\n",
    "            # В очередь присваивается email\n",
    "            queue = [email]\n",
    "            # Создание множества для ткущей группы\n",
    "            current_group = set()\n",
    "            # Определения номера группы по длине списка на данную итерацию\n",
    "            group_num = len(groups)\n",
    "            # Пока очередь непустая\n",
    "            while queue:\n",
    "                # Извлекает текущее значение в очереди .pop() - последнее\n",
    "                current = queue.pop()\n",
    "                # Если текущее значение в ключах словаря email -> телефон\n",
    "                if current in email_to_phones:\n",
    "                    # Если телефон еще не группировался\n",
    "                    if current not in visited:\n",
    "                        # Добавляет телефон в текущую группу\n",
    "                        current_group.add(current)\n",
    "                        # Ключу телефона присвается номер группы\n",
    "                        element_to_group[current] = group_num\n",
    "                        # В множество посетивших сайт добалвяется текущий номер\n",
    "                        visited.add(current)\n",
    "                        # Номера телефонов в соответствии с каждым ключом добавляются в очередь\n",
    "                        for phone in email_to_phones[current]:\n",
    "                            queue.append(phone)\n",
    "                else:\n",
    "                    # Если email еще не группировался\n",
    "                    if current not in visited:\n",
    "                        # Добавляет почту в текущую группу\n",
    "                        current_group.add(current)\n",
    "                        # Ключу email присвается нмоер группы\n",
    "                        element_to_group[current] = group_num\n",
    "                        # В мноежство посетивших добавляется текущий email\n",
    "                        visited.add(current)\n",
    "                        # Адреса почт довбляется в сответствии с ключом в очередь\n",
    "                        for email in phone_to_emails[current]:\n",
    "                            queue.append(email)\n",
    "            # В группы добавляется найденная группа\n",
    "            groups.append(current_group)\n",
    "    # Количество транзакций групп: для каждой группы 0 изначально\n",
    "    group_counts = [0] * len(groups)\n",
    "    # Пробег по линии\n",
    "    for line in lines:\n",
    "        # Разделение\n",
    "        parts = line.split(',')\n",
    "        # Вычленение email\n",
    "        elements = [parts[0].strip()]\n",
    "        # Если длина списка > 1 -> есть еще телефон\n",
    "        if len(parts) > 1:\n",
    "            # Добавляет телефон в элементы\n",
    "            elements.append(parts[1].strip())\n",
    "        # Для каждого элемента строки\n",
    "        for element in elements:\n",
    "            # Если элемент строки в группах\n",
    "            if element in element_to_group:\n",
    "                # То считается, что транзакция произошла -> счетчик ↑\n",
    "                group_counts[element_to_group[element]] += 1\n",
    "                break\n",
    "\n",
    "    return (max(group_counts) if group_counts else 0)"
   ]
  },
  {
   "cell_type": "code",
   "execution_count": 3,
   "id": "49c1984b",
   "metadata": {},
   "outputs": [
    {
     "data": {
      "text/plain": [
       "52"
      ]
     },
     "execution_count": 3,
     "metadata": {},
     "output_type": "execute_result"
    }
   ],
   "source": [
    "solve()"
   ]
  }
 ],
 "metadata": {
  "kernelspec": {
   "display_name": "Python 3",
   "language": "python",
   "name": "python3"
  },
  "language_info": {
   "codemirror_mode": {
    "name": "ipython",
    "version": 3
   },
   "file_extension": ".py",
   "mimetype": "text/x-python",
   "name": "python",
   "nbconvert_exporter": "python",
   "pygments_lexer": "ipython3",
   "version": "3.12.4"
  }
 },
 "nbformat": 4,
 "nbformat_minor": 5
}
