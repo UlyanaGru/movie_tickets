{
 "cells": [
  {
   "cell_type": "code",
   "execution_count": 3,
   "id": "40a81378",
   "metadata": {},
   "outputs": [],
   "source": [
    "# deafaultdict выбран из-за своей функциональности (ссылка в README.md)\n",
    "from collections import defaultdict"
   ]
  },
  {
   "cell_type": "code",
   "execution_count": 4,
   "id": "b078d2c1",
   "metadata": {},
   "outputs": [],
   "source": [
    "def solve():\n",
    "    # Чтение данных из файла logs.csv\n",
    "    with open('logs.csv', 'r') as f:\n",
    "        # Читает построчно файл, создает список с элеменатами - прочитанными строками\n",
    "        lines = f.readlines()\n",
    "    # При обращении к несуществующему ключу автоматически будет создаваться пустое множество set()\n",
    "    email_to_phones = defaultdict(set)\n",
    "    phone_to_emails = defaultdict(set)"
   ]
  }
 ],
 "metadata": {
  "kernelspec": {
   "display_name": "Python 3",
   "language": "python",
   "name": "python3"
  },
  "language_info": {
   "codemirror_mode": {
    "name": "ipython",
    "version": 3
   },
   "file_extension": ".py",
   "mimetype": "text/x-python",
   "name": "python",
   "nbconvert_exporter": "python",
   "pygments_lexer": "ipython3",
   "version": "3.12.4"
  }
 },
 "nbformat": 4,
 "nbformat_minor": 5
}
